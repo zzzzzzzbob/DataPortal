{
 "cells": [
  {
   "cell_type": "code",
   "execution_count": 1,
   "metadata": {},
   "outputs": [],
   "source": [
    "from bs4 import BeautifulSoup as bs\n",
    "import requests\n",
    "import pandas as pd\n",
    "from datetime import datetime as dt\n",
    "\n",
    "\n",
    "from control_mongo import to_mongo\n",
    "# to_mongo.insert_data(data, dest)"
   ]
  },
  {
   "cell_type": "code",
   "execution_count": 2,
   "metadata": {},
   "outputs": [],
   "source": [
    "data = requests.get(\"http://ncov.mohw.go.kr/bdBoardList_Real.do?brdId=1&brdGubun=11&ncvContSeq=&contSeq=&board_id=&gubun=\")\n",
    "corona_data = pd.read_html(data.content, encoding=\"utf8\")\n",
    "\n",
    "# 해외유입 환자현황 데이터 세팅\n",
    "k = corona_data[0].loc[:,['구분.1', '신규', '누계']]\n",
    "data_set = {}\n",
    "data_sub_set = {}\n",
    "for idx in range(len(k)):\n",
    "    # pandas 의 int 형식의 값은 numpy.int 로 몽고에 insert하게되면 타입 에러 발생 --> item() 으로 대체\n",
    "    \n",
    "    data_sub_set[k.iloc[idx]['구분.1']] = {\"신규\": k.iloc[idx]['신규'].item(), \"누계\" : k.loc[idx]['누계'].item()}\n",
    "#     print(\"국가 : {}, 수량 : {}\".format(k.iloc[idx]['구분.1'], k.iloc[idx][\"신규\"]))\n",
    "data_set[dt.date(dt.now()).isoformat()] = data_sub_set\n",
    "\n",
    "# print(data_set)"
   ]
  },
  {
   "cell_type": "code",
   "execution_count": 97,
   "metadata": {},
   "outputs": [],
   "source": [
    "# Data insert to mongo\n",
    "mg = to_mongo()\n",
    "mg.insert_data(data_set, 'corona_data')"
   ]
  },
  {
   "cell_type": "markdown",
   "metadata": {},
   "source": [
    "![img](img/img.png)"
   ]
  },
  {
   "cell_type": "code",
   "execution_count": 96,
   "metadata": {
    "tags": []
   },
   "outputs": [
    {
     "output_type": "execute_result",
     "data": {
      "text/plain": "[         날짜  누적 확진환자수  일일 확진환자수\n 0  20200813     14770        56\n 1  20200814     14873       103\n 2  20200815     15039       166\n 3  20200816     15318       279\n 4  20200817     15515       197\n 5  20200818     15761       246\n 6  20200819     16058       297,\n          날짜  누적 격리해제  일일 격리해제\n 0  20200813    13817       31\n 1  20200814    13863       46\n 2  20200815    13901       38\n 3  20200816    13910        9\n 4  20200817    13917        7\n 5  20200818    13934       17\n 6  20200819    14006       72,\n    구분         확진자(%)       사망자(%)  치명률(%)\n 0  남성  7,251 (45.16)  163 (53.27)    2.25\n 1  여성  8,807 (54.84)  143 (46.73)    1.62]"
     },
     "metadata": {},
     "execution_count": 96
    }
   ],
   "source": [
    "# 해외유입 환자현황 [ 구분 / 구분.1 / 신규 / 누계 / (비율) ]\n",
    "# corona_data[0]\n",
    "\n",
    "# 누적 검사현황 [ 격리중 / 격리해제 / 사망/ 소계 / 결과음성 / 소계 / 검사중 / 함계]\n",
    "# corona_data[1]\n",
    "\n",
    "# 누적 확진자 수 [ 날짜 / 누적 확진환자수 / 일일 확진환자수]\n",
    "corona_data[2:5]\n",
    "\n",
    "# 누적 격리해제 [ 날짜 / 누적 격리해제 / 일일 격리해제 ]\n",
    "# corona_data[3]\n",
    "\n",
    "# 성별 확진자 사망자 치명률 [ 구분 / 확진자(%) / 사망자(%) / 치명률(%)]\n",
    "# corona_data[4]\n",
    "\n",
    "# 연령대 별 확진자 [ 구분 / 확진자(%) / 사망자(%) / 치명률(%) ]\n",
    "# corona_data[5]"
   ]
  },
  {
   "cell_type": "code",
   "execution_count": 5,
   "metadata": {},
   "outputs": [],
   "source": [
    "# 누적 확진환자\n",
    "# bs_data.find(class_=\"ca_value\").text\n",
    "\n",
    "# 전일대비 변화량 (소계)\n",
    "# bs_data.find_all(class_=\"inner_value\")[0]\n",
    "\n",
    "# 전일대비 해외유입량\n",
    "# bs_data.find_all(class_=\"inner_value\")[1]\n",
    "\n",
    "# 전일대비 국내발생량\n",
    "# bs_data.find_all(class_=\"inner_value\")[2]\n",
    "\n",
    "# 누적 격리해제\n",
    "# bs_data.find_all(class_=\"ca_value\")[2].text\n",
    "\n",
    "# 전일대비 격리해제\n",
    "# bs_data.find_all(class_=\"txt_ntc\")[0].text\n",
    "\n",
    "# 누적 격리중\n",
    "# bs_data.find_all(class_=\"ca_value\")[4].text\n",
    "\n",
    "# 전일대비 격리중\n",
    "# bs_data.find_all(class_=\"txt_ntc\")[1].text\n",
    "\n",
    "# 누적 사망\n",
    "# bs_data.find_all(class_=\"ca_value\")[6].text\n",
    "\n",
    "# 전일대비 사망\n",
    "# bs_data.find_all(class_=\"txt_ntc\")[2].text\n"
   ]
  }
 ],
 "metadata": {
  "kernelspec": {
   "display_name": "Python 3",
   "language": "python",
   "name": "python3"
  },
  "language_info": {
   "codemirror_mode": {
    "name": "ipython",
    "version": 3
   },
   "file_extension": ".py",
   "mimetype": "text/x-python",
   "name": "python",
   "nbconvert_exporter": "python",
   "pygments_lexer": "ipython3",
   "version": "3.7.3-final"
  }
 },
 "nbformat": 4,
 "nbformat_minor": 4
}